{
 "cells": [
  {
   "cell_type": "code",
   "execution_count": 13,
   "metadata": {},
   "outputs": [
    {
     "data": {
      "text/plain": [
       "Point(x=472, y=250)"
      ]
     },
     "execution_count": 13,
     "metadata": {},
     "output_type": "execute_result"
    }
   ],
   "source": [
    "import pyautogui\n",
    "from time import sleep\n",
    "\n",
    "\n",
    "sleep(5)\n",
    "pyautogui.position()"
   ]
  },
  {
   "cell_type": "code",
   "execution_count": 20,
   "metadata": {},
   "outputs": [],
   "source": [
    "import pyautogui\n",
    "from time import sleep\n",
    "\n",
    "pyautogui.FAILSAFE = 2.5\n",
    "\n",
    "msg = input('Insira a mensagem: ')\n",
    "sleep(10)\n",
    "pyautogui.hotkey('alt', 'tab')\n",
    "pyautogui.click(duration= 1, x=472, y=250)\n",
    "sleep(2)\n",
    "pyautogui.click(duration=0.7, x=786, y=695)\n",
    "sleep(2)\n",
    "pyautogui.typewrite(msg, 0.10)\n",
    "\n",
    "sleep(1)\n",
    "pyautogui.press('enter')"
   ]
  },
  {
   "cell_type": "code",
   "execution_count": 5,
   "metadata": {},
   "outputs": [],
   "source": [
    "import json\n",
    "\n",
    "dictio = {'nomes':['any', 'str']}\n",
    "\n",
    "json_objt = json.dumps(dictio)\n",
    "with open('arquivo teste.json', 'w') as json_arquive:\n",
    "    json_arquive.write(json_objt)"
   ]
  },
  {
   "cell_type": "code",
   "execution_count": 2,
   "metadata": {},
   "outputs": [],
   "source": [
    "import sqlite3\n",
    "\n",
    "\n",
    "con = sqlite3.connect('test_db.sqlite3')\n",
    "cur = con.cursor()\n",
    "# Create table\n",
    "cur.execute('''CREATE TABLE stocks\n",
    "               (date text, trans text, symbol text, qty real, price real)''')\n",
    "\n",
    "# Insert a row of data\n",
    "cur.execute(\"INSERT INTO stocks VALUES ('2006-01-05','BUY','RHAT',100,35.14)\")\n",
    "\n",
    "# Save (commit) the changes\n",
    "con.commit()\n",
    "\n",
    "# We can also close the connection if we are done with it.\n",
    "# Just be sure any changes have been committed or they will be lost.\n",
    "con.close()"
   ]
  },
  {
   "cell_type": "code",
   "execution_count": 5,
   "metadata": {},
   "outputs": [],
   "source": [
    "import logging\n",
    "\n",
    "def main():\n",
    "    logging.basicConfig(filename='test_log.log', level=logging.INFO)\n",
    "    logging.info('Started')\n",
    "    logging.info('Finished')\n",
    "\n",
    "if __name__ == '__main__':\n",
    "    main()"
   ]
  },
  {
   "cell_type": "code",
   "execution_count": 3,
   "metadata": {},
   "outputs": [
    {
     "name": "stdout",
     "output_type": "stream",
     "text": [
      "Collecting twilio\n",
      "  Downloading twilio-7.12.0-py2.py3-none-any.whl (1.4 MB)\n",
      "     ---------------------------------------- 1.4/1.4 MB 1.9 MB/s eta 0:00:00\n",
      "Requirement already satisfied: pytz in c:\\users\\gian2\\appdata\\local\\programs\\python\\python310\\lib\\site-packages (from twilio) (2022.1)\n",
      "Collecting requests>=2.0.0\n",
      "  Downloading requests-2.28.1-py3-none-any.whl (62 kB)\n",
      "     ---------------------------------------- 62.8/62.8 KB 1.6 MB/s eta 0:00:00\n",
      "Collecting PyJWT<3.0.0,>=2.0.0\n",
      "  Downloading PyJWT-2.4.0-py3-none-any.whl (18 kB)\n",
      "Collecting idna<4,>=2.5\n",
      "  Downloading idna-3.3-py3-none-any.whl (61 kB)\n",
      "     ---------------------------------------- 61.2/61.2 KB 1.6 MB/s eta 0:00:00\n",
      "Collecting certifi>=2017.4.17\n",
      "  Downloading certifi-2022.6.15-py3-none-any.whl (160 kB)\n",
      "     -------------------------------------- 160.2/160.2 KB 1.6 MB/s eta 0:00:00\n",
      "Collecting charset-normalizer<3,>=2\n",
      "  Downloading charset_normalizer-2.1.0-py3-none-any.whl (39 kB)\n",
      "Collecting urllib3<1.27,>=1.21.1\n",
      "  Downloading urllib3-1.26.11-py2.py3-none-any.whl (139 kB)\n",
      "     -------------------------------------- 139.9/139.9 KB 1.6 MB/s eta 0:00:00\n",
      "Installing collected packages: urllib3, PyJWT, idna, charset-normalizer, certifi, requests, twilio\n",
      "Successfully installed PyJWT-2.4.0 certifi-2022.6.15 charset-normalizer-2.1.0 idna-3.3 requests-2.28.1 twilio-7.12.0 urllib3-1.26.11\n",
      "Note: you may need to restart the kernel to use updated packages.\n"
     ]
    },
    {
     "name": "stderr",
     "output_type": "stream",
     "text": [
      "  WARNING: The script normalizer.exe is installed in 'c:\\Users\\gian2\\AppData\\Local\\Programs\\Python\\Python310\\Scripts' which is not on PATH.\n",
      "  Consider adding this directory to PATH or, if you prefer to suppress this warning, use --no-warn-script-location.\n",
      "WARNING: You are using pip version 22.0.4; however, version 22.2.1 is available.\n",
      "You should consider upgrading via the 'c:\\Users\\gian2\\AppData\\Local\\Programs\\Python\\Python310\\python.exe -m pip install --upgrade pip' command.\n"
     ]
    }
   ],
   "source": [
    "pip install twilio"
   ]
  },
  {
   "cell_type": "code",
   "execution_count": 7,
   "metadata": {},
   "outputs": [
    {
     "ename": "KeyError",
     "evalue": "'TWILIO_ACCOUNT_SID'",
     "output_type": "error",
     "traceback": [
      "\u001b[1;31m---------------------------------------------------------------------------\u001b[0m",
      "\u001b[1;31mKeyError\u001b[0m                                  Traceback (most recent call last)",
      "\u001b[1;32mc:\\Users\\gian2\\meus-pequenos-estudos\\bot-ficha\\ideas\\anot.ipynb Célula: 7\u001b[0m in \u001b[0;36m<cell line: 7>\u001b[1;34m()\u001b[0m\n\u001b[0;32m      <a href='vscode-notebook-cell:/c%3A/Users/gian2/meus-pequenos-estudos/bot-ficha/ideas/anot.ipynb#ch0000006?line=1'>2</a>\u001b[0m \u001b[39mfrom\u001b[39;00m \u001b[39mtwilio\u001b[39;00m\u001b[39m.\u001b[39;00m\u001b[39mrest\u001b[39;00m \u001b[39mimport\u001b[39;00m Client\n\u001b[0;32m      <a href='vscode-notebook-cell:/c%3A/Users/gian2/meus-pequenos-estudos/bot-ficha/ideas/anot.ipynb#ch0000006?line=4'>5</a>\u001b[0m \u001b[39m# Find your Account SID and Auth Token at twilio.com/console\u001b[39;00m\n\u001b[0;32m      <a href='vscode-notebook-cell:/c%3A/Users/gian2/meus-pequenos-estudos/bot-ficha/ideas/anot.ipynb#ch0000006?line=5'>6</a>\u001b[0m \u001b[39m# and set the environment variables. See http://twil.io/secure\u001b[39;00m\n\u001b[1;32m----> <a href='vscode-notebook-cell:/c%3A/Users/gian2/meus-pequenos-estudos/bot-ficha/ideas/anot.ipynb#ch0000006?line=6'>7</a>\u001b[0m account_sid \u001b[39m=\u001b[39m os\u001b[39m.\u001b[39;49menviron[\u001b[39m'\u001b[39;49m\u001b[39mTWILIO_ACCOUNT_SID\u001b[39;49m\u001b[39m'\u001b[39;49m]\n\u001b[0;32m      <a href='vscode-notebook-cell:/c%3A/Users/gian2/meus-pequenos-estudos/bot-ficha/ideas/anot.ipynb#ch0000006?line=7'>8</a>\u001b[0m auth_token \u001b[39m=\u001b[39m os\u001b[39m.\u001b[39menviron[\u001b[39m'\u001b[39m\u001b[39mTWILIO_AUTH_TOKEN\u001b[39m\u001b[39m'\u001b[39m]\n\u001b[0;32m      <a href='vscode-notebook-cell:/c%3A/Users/gian2/meus-pequenos-estudos/bot-ficha/ideas/anot.ipynb#ch0000006?line=8'>9</a>\u001b[0m client \u001b[39m=\u001b[39m Client(account_sid, auth_token)\n",
      "File \u001b[1;32mc:\\Users\\gian2\\AppData\\Local\\Programs\\Python\\Python310\\lib\\os.py:679\u001b[0m, in \u001b[0;36m_Environ.__getitem__\u001b[1;34m(self, key)\u001b[0m\n\u001b[0;32m    676\u001b[0m     value \u001b[39m=\u001b[39m \u001b[39mself\u001b[39m\u001b[39m.\u001b[39m_data[\u001b[39mself\u001b[39m\u001b[39m.\u001b[39mencodekey(key)]\n\u001b[0;32m    677\u001b[0m \u001b[39mexcept\u001b[39;00m \u001b[39mKeyError\u001b[39;00m:\n\u001b[0;32m    678\u001b[0m     \u001b[39m# raise KeyError with the original key value\u001b[39;00m\n\u001b[1;32m--> 679\u001b[0m     \u001b[39mraise\u001b[39;00m \u001b[39mKeyError\u001b[39;00m(key) \u001b[39mfrom\u001b[39;00m \u001b[39mNone\u001b[39m\n\u001b[0;32m    680\u001b[0m \u001b[39mreturn\u001b[39;00m \u001b[39mself\u001b[39m\u001b[39m.\u001b[39mdecodevalue(value)\n",
      "\u001b[1;31mKeyError\u001b[0m: 'TWILIO_ACCOUNT_SID'"
     ]
    }
   ],
   "source": []
  }
 ],
 "metadata": {
  "kernelspec": {
   "display_name": "Python 3.10.5 64-bit",
   "language": "python",
   "name": "python3"
  },
  "language_info": {
   "codemirror_mode": {
    "name": "ipython",
    "version": 3
   },
   "file_extension": ".py",
   "mimetype": "text/x-python",
   "name": "python",
   "nbconvert_exporter": "python",
   "pygments_lexer": "ipython3",
   "version": "3.10.5"
  },
  "orig_nbformat": 4,
  "vscode": {
   "interpreter": {
    "hash": "f037d0519464f6b34bea09a2a347a6858dde06efc46dc1192f9ee44cf928a89b"
   }
  }
 },
 "nbformat": 4,
 "nbformat_minor": 2
}
