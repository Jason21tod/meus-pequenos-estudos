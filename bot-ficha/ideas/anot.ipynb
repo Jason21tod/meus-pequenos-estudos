{
 "cells": [
  {
   "cell_type": "code",
   "execution_count": 13,
   "metadata": {},
   "outputs": [
    {
     "data": {
      "text/plain": [
       "Point(x=472, y=250)"
      ]
     },
     "execution_count": 13,
     "metadata": {},
     "output_type": "execute_result"
    }
   ],
   "source": [
    "import pyautogui\n",
    "from time import sleep\n",
    "\n",
    "\n",
    "sleep(5)\n",
    "pyautogui.position()"
   ]
  },
  {
   "cell_type": "code",
   "execution_count": 20,
   "metadata": {},
   "outputs": [],
   "source": [
    "import pyautogui\n",
    "from time import sleep\n",
    "\n",
    "pyautogui.FAILSAFE = 2.5\n",
    "\n",
    "msg = input('Insira a mensagem: ')\n",
    "sleep(35)\n",
    "pyautogui.hotkey('alt', 'tab')\n",
    "pyautogui.click(duration= 1, x=472, y=250)\n",
    "sleep(2)\n",
    "pyautogui.click(duration=0.7, x=786, y=695)\n",
    "sleep(2)\n",
    "pyautogui.typewrite(msg, 0.10)\n",
    "\n",
    "sleep(1)\n",
    "pyautogui.press('enter')"
   ]
  }
 ],
 "metadata": {
  "kernelspec": {
   "display_name": "Python 3.10.5 64-bit",
   "language": "python",
   "name": "python3"
  },
  "language_info": {
   "codemirror_mode": {
    "name": "ipython",
    "version": 3
   },
   "file_extension": ".py",
   "mimetype": "text/x-python",
   "name": "python",
   "nbconvert_exporter": "python",
   "pygments_lexer": "ipython3",
   "version": "3.10.5"
  },
  "orig_nbformat": 4,
  "vscode": {
   "interpreter": {
    "hash": "f037d0519464f6b34bea09a2a347a6858dde06efc46dc1192f9ee44cf928a89b"
   }
  }
 },
 "nbformat": 4,
 "nbformat_minor": 2
}
